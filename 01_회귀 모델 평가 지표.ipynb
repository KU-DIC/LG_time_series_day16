{
 "cells": [
  {
   "cell_type": "code",
   "execution_count": null,
   "id": "dac6116b",
   "metadata": {},
   "outputs": [],
   "source": [
    "# !pip install IPython\n",
    "from IPython.display import display, HTML, Image"
   ]
  },
  {
   "cell_type": "code",
   "execution_count": null,
   "metadata": {},
   "outputs": [],
   "source": [
    "!git clone https://github.com/KU-DIC/LG_time_series_day16.git #코랩 사용"
   ]
  },
  {
   "cell_type": "markdown",
   "id": "a6772379",
   "metadata": {},
   "source": [
    "# [모델 평가 지표]\n",
    "## 회귀 모델 평가 지표"
   ]
  },
  {
   "cell_type": "markdown",
   "id": "09c703c2",
   "metadata": {},
   "source": [
    "##### jupyter notebook 단축키\n",
    "\n",
    "- ctrl+enter: 셀 실행   \n",
    "- shift+enter: 셀 실행 및 다음 셀 이동   \n",
    "- alt+enter: 셀 실행, 다음 셀 이동, 새로운 셀 생성\n",
    "- a: 상단에 새로운 셀 만들기\n",
    "- b: 하단에 새로운 셀 만들기\n",
    "- dd: 셀 삭제(x: 셀 삭제)\n",
    "- 함수 ( ) 안에서 shift+tab: arguments description. shift+tab+tab은 길게 볼 수 있도록"
   ]
  },
  {
   "cell_type": "markdown",
   "id": "b731dc12",
   "metadata": {},
   "source": [
    "## 1. 모듈 불러오기"
   ]
  },
  {
   "cell_type": "code",
   "execution_count": null,
   "id": "f0e9f787",
   "metadata": {},
   "outputs": [],
   "source": [
    "''' 데이터 전처리 패키지 '''\n",
    "import numpy as np\n",
    "import pandas as pd\n",
    "\n",
    "''' 기계학습 모델 구축 및 평가 패키지 '''\n",
    "import statsmodels.api as sm\n",
    "from sklearn.metrics import mean_squared_error, r2_score, mean_absolute_error\n",
    "\n",
    "''' 데이터 시각화 패키지 '''\n",
    "import seaborn as sns\n",
    "import matplotlib.pyplot as plt\n",
    "import matplotlib.font_manager as fm\n",
    "\n",
    "''' 경고 숨기기 '''\n",
    "import warnings\n",
    "warnings.filterwarnings(action='ignore')\n",
    "\n",
    "''' 한글 폰트 설정 '''\n",
    "plt.rc('font', family='Malgun Gothic')"
   ]
  },
  {
   "cell_type": "markdown",
   "id": "63b2bdfb",
   "metadata": {},
   "source": [
    "## 2. 분석 데이터셋: Toyota Corolla \n",
    "\n",
    "<center><a href='https://www.kaggle.com/klkwak/toyotacorollacsv'> https://www.kaggle.com/klkwak/toyotacorollacsv </a></center>\n",
    "\n",
    "\n",
    "### 설명변수 (X)\n",
    "- Mfg_Month\n",
    "- Mfg_Year\n",
    "- KM\n",
    "- Fuel_Type\n",
    "...\n",
    "- Radio_cassette\n",
    "- Tow_Bar\n",
    "\n",
    "### 반응변수 (Y)\n",
    "- Price"
   ]
  },
  {
   "cell_type": "code",
   "execution_count": null,
   "id": "3c04fb2f",
   "metadata": {},
   "outputs": [],
   "source": [
    "# 데이터 불러오기\n",
    "data = pd.read_csv('/content/LG_time_series_day16/data/ToyotaCorolla.csv')\n",
    "# data = pd.read_csv('./data/ToyotaCorolla.csv') # 로컬"
   ]
  },
  {
   "cell_type": "code",
   "execution_count": null,
   "id": "fd78fca3",
   "metadata": {},
   "outputs": [],
   "source": [
    "# 데이터 크기 및 사용 변수\n",
    "print(\"데이터 크기 : \", data.shape)"
   ]
  },
  {
   "cell_type": "code",
   "execution_count": null,
   "id": "f07e1337-a149-4f7d-b17a-9f9125f9ba6d",
   "metadata": {},
   "outputs": [],
   "source": [
    "### 불필요한 변수 제거\n",
    "\n",
    "data = data.drop(labels=['Id', 'Model'], axis=1)\n",
    "print(\"불필요한 변수 제거 후 데이터 크기 : \", data.shape)"
   ]
  },
  {
   "cell_type": "code",
   "execution_count": null,
   "id": "7754b125",
   "metadata": {},
   "outputs": [],
   "source": [
    "# 데이터 예시\n",
    "print(\"X samples : \", data[:3])"
   ]
  },
  {
   "cell_type": "markdown",
   "id": "cff080ad",
   "metadata": {},
   "source": [
    "## 3. 데이터 전처리\n",
    "\n",
    "$\\mathbf{X}$: 설명변수/입력변수 <br>\n",
    "$\\mathbf{y}$: 반응변수/출력변수\n",
    "\n",
    "- X, Y 데이터 프레임 만들기"
   ]
  },
  {
   "cell_type": "code",
   "execution_count": null,
   "id": "46c46937",
   "metadata": {},
   "outputs": [],
   "source": [
    "X = data.drop(labels='Price', axis=1)\n",
    "y = data['Price']"
   ]
  },
  {
   "cell_type": "code",
   "execution_count": null,
   "id": "101e5091-20ca-44b9-9c3b-59fab918852c",
   "metadata": {},
   "outputs": [],
   "source": [
    "display(X.head())\n",
    "display(y.head())"
   ]
  },
  {
   "cell_type": "markdown",
   "id": "8515c698-a005-427f-834c-962dae8c410d",
   "metadata": {},
   "source": [
    "### 범주형 설명변수에 대한 Dummy 변수 생성"
   ]
  },
  {
   "cell_type": "code",
   "execution_count": null,
   "id": "3913483d-cf14-4ac4-acad-fcef59fe9259",
   "metadata": {},
   "outputs": [],
   "source": [
    "data['Fuel_Type']"
   ]
  },
  {
   "cell_type": "code",
   "execution_count": null,
   "id": "d5ff660b-9e1c-408f-a07a-3fb2bd546258",
   "metadata": {},
   "outputs": [],
   "source": [
    "data.groupby('Fuel_Type')['Fuel_Type'].count()"
   ]
  },
  {
   "cell_type": "code",
   "execution_count": null,
   "id": "af519a24-edb8-46ff-a76b-c597e33803f2",
   "metadata": {},
   "outputs": [],
   "source": [
    "X = X.drop(labels='Fuel_Type', axis=1)"
   ]
  },
  {
   "cell_type": "code",
   "execution_count": null,
   "id": "39ef35b3-7153-439d-a222-a4aee13cbe3e",
   "metadata": {},
   "outputs": [],
   "source": [
    "X_dummy = pd.get_dummies(data=data['Fuel_Type'], prefix='Fuel_Type', drop_first=True)"
   ]
  },
  {
   "cell_type": "code",
   "execution_count": null,
   "id": "d9880bc4-6137-443c-bba9-55eaeae7c8a4",
   "metadata": {},
   "outputs": [],
   "source": [
    "X_dummy"
   ]
  },
  {
   "cell_type": "code",
   "execution_count": null,
   "id": "ed3d0310-e3f6-420b-9b3a-7eea1e907034",
   "metadata": {},
   "outputs": [],
   "source": [
    "X_dummied = pd.concat(objs=[X,X_dummy], axis=1)"
   ]
  },
  {
   "cell_type": "code",
   "execution_count": null,
   "id": "32f1b8db-fe35-49f4-8d2b-1d036a3bd094",
   "metadata": {},
   "outputs": [],
   "source": [
    "X_dummied.head()"
   ]
  },
  {
   "cell_type": "markdown",
   "id": "20c8eb2f",
   "metadata": {},
   "source": [
    "### X, Y 데이터 프레임 합치기"
   ]
  },
  {
   "cell_type": "code",
   "execution_count": null,
   "id": "4e66a916",
   "metadata": {},
   "outputs": [],
   "source": [
    "data = pd.concat([X_dummied, y], axis=1)\n",
    "data.head()"
   ]
  },
  {
   "cell_type": "markdown",
   "id": "5e6b8911",
   "metadata": {},
   "source": [
    "## 4. 탐색적 데이터 분석\n",
    "\n",
    "- sns.pairplot을 이용하여 설명변수의 분포(히스토그램) 및 설명변수들 간의 관계(산점도)를 그리고, 특성을 파악"
   ]
  },
  {
   "cell_type": "code",
   "execution_count": null,
   "id": "9883b581",
   "metadata": {
    "tags": []
   },
   "outputs": [],
   "source": [
    "# 변수가 매우 많아 여기서는 실행 X\n",
    "# sns.pairplot(data)\n",
    "# plt.show()"
   ]
  },
  {
   "cell_type": "markdown",
   "id": "156b3fe6",
   "metadata": {},
   "source": [
    "- 일부 변수에 대해 그래프 확인"
   ]
  },
  {
   "cell_type": "code",
   "execution_count": null,
   "id": "cea2f9c4",
   "metadata": {},
   "outputs": [],
   "source": [
    "# \"Age_08_04\", \"Mfg_Year\", \"Fuel_Type_Petrol\", \"Price\" 변수 확인\n",
    "plt.figure(figsize=(10, 10))\n",
    "sns.pairplot(data[['Age_08_04', 'Mfg_Year', 'Fuel_Type_Petrol', 'Price']])\n",
    "plt.show()"
   ]
  },
  {
   "cell_type": "markdown",
   "id": "d5fae620",
   "metadata": {},
   "source": [
    "### 설명변수 간 상관계수(correlation coefficient) 확인\n",
    "\n",
    "- data.corr(): 데이터 상관관계\n",
    "- sns.heatmap(데이터, cmap= colormap 이름, annot=히트맵 안에 표시할 데이터)\n"
   ]
  },
  {
   "cell_type": "code",
   "execution_count": null,
   "id": "fe1f64a4",
   "metadata": {},
   "outputs": [],
   "source": [
    "# 상관계수 행렬\n",
    "data.corr()"
   ]
  },
  {
   "cell_type": "code",
   "execution_count": null,
   "id": "5de7575b",
   "metadata": {},
   "outputs": [],
   "source": [
    "plt.figure(figsize=(12, 12))\n",
    "sns.heatmap(data.corr(), cmap=sns.color_palette(\"coolwarm\", 10), annot=True)\n",
    "# sns.heatmap(data.corr(), cmap=\"jet\", annot=True) ## Color map 변경 \n",
    "# sns.heatmap(data.corr(), cmap=sns.color_palette(\"coolwarm\", 10), annot=False) ## Annot 변경\n",
    "plt.show()"
   ]
  },
  {
   "cell_type": "markdown",
   "id": "d4a8be85",
   "metadata": {},
   "source": [
    "- 특정 값 이상 상관성을 갖는 조합을 확인"
   ]
  },
  {
   "cell_type": "code",
   "execution_count": null,
   "id": "1cf5d953",
   "metadata": {},
   "outputs": [],
   "source": [
    "threshold_corr = 0.5\n",
    "\n",
    "corrmat = data.corr()\n",
    "select_features = corrmat.index[abs(corrmat[\"Price\"]) >= threshold_corr]\n",
    "\n",
    "plt.figure(figsize=(10,10))\n",
    "sns.heatmap(data[select_features].corr(), cmap=sns.color_palette(\"coolwarm\", 10), annot=True)"
   ]
  },
  {
   "cell_type": "markdown",
   "id": "309c09e8",
   "metadata": {},
   "source": [
    "## 5. 모델링\n",
    "\n",
    "### statsmodels의 OLS를 사용하여 선형회귀분석 시행 (OLS: Ordinary Least Squares)\n",
    " - OLS: 가장 기본적인 결정론적 선형 회귀 방법으로 잔차제곱합(RSS: Residual Sum of Squares)을 최소화하는 가중치(β1, β2 ...)를 구하는 방법\n",
    " - 모델 선언: model = sm.OLS(Y데이터, X데이터)   \n",
    " - 모델 학습: model_trained = model.fit()"
   ]
  },
  {
   "cell_type": "code",
   "execution_count": null,
   "id": "7f07e836-1546-4d7c-a86b-9d6d34126656",
   "metadata": {},
   "outputs": [],
   "source": [
    "Image('/content/LG_time_series_day16/image/intro1.png')"
   ]
  },
  {
   "cell_type": "code",
   "execution_count": null,
   "id": "e0996321",
   "metadata": {},
   "outputs": [],
   "source": [
    "# 상수항(b0) 정의\n",
    "data = sm.add_constant(data)\n",
    "\n",
    "# 입력변수(X)와 출력변수(Y) 정의\n",
    "model = sm.OLS(data['Price'], data.drop(['Price'], axis=1))"
   ]
  },
  {
   "cell_type": "code",
   "execution_count": null,
   "id": "e612da1e",
   "metadata": {},
   "outputs": [],
   "source": [
    "# 최적의 파라미터 탐색\n",
    "model_trained = model.fit()"
   ]
  },
  {
   "cell_type": "markdown",
   "id": "cc44a1f4",
   "metadata": {},
   "source": [
    "### QQ plot을 통해 선형 모형의 정규성 가정을 시각적으로 확인"
   ]
  },
  {
   "cell_type": "code",
   "execution_count": null,
   "id": "a3ac2066",
   "metadata": {},
   "outputs": [],
   "source": [
    "# 확률오차의 정규성 확인\n",
    "\n",
    "model_residuals = model_trained.resid\n",
    "\n",
    "plt.rcParams['axes.unicode_minus'] = False # 음수 폰트 깨짐 방지\n",
    "fig, ax = plt.subplots(1,1)\n",
    "fig.set_figheight(8) \n",
    "fig.set_figwidth(10) \n",
    "\n",
    "sm.ProbPlot(model_residuals).qqplot(line='s', color='#1f77b4', ax=ax)\n",
    "ax.title.set_text('Q-Q Plot')"
   ]
  },
  {
   "cell_type": "code",
   "execution_count": null,
   "id": "4d4a7e98",
   "metadata": {},
   "outputs": [],
   "source": [
    "# 확률오차의 등분산성 확인\n",
    "\n",
    "model_fitted_y= model_trained.fittedvalues\n",
    "\n",
    "fig, ax = plt.subplots(1, 1)\n",
    "fig.set_figheight(8)\n",
    "fig.set_figwidth(10)\n",
    "\n",
    "# lowess : 평활화 (곡면에 피팅)\n",
    "\n",
    "sns.residplot(data=data, x= model_fitted_y, y= 'Price', lowess=True, scatter_kws={'alpha': 0.5}, \n",
    "              line_kws={'color':'red'}, ax=ax)\n",
    "ax.title.set_text('Residuals vs Fitted')\n",
    "ax.set(xlabel='Fitted values', ylabel='Residuals')"
   ]
  },
  {
   "cell_type": "markdown",
   "id": "0d919193",
   "metadata": {},
   "source": [
    "## 6. 모델 해석\n",
    "- R-squared (결정계수,coefficient of determination):모형의 성능\n",
    "- coef (회귀계수): X가 한단위 증가할 때 Y의 변화량\n",
    "- P>[t] (p-value):0.05(유의수준) 이하일 때 변수가 유의미"
   ]
  },
  {
   "cell_type": "markdown",
   "id": "16c8d886",
   "metadata": {},
   "source": [
    "# __모델 해석__"
   ]
  },
  {
   "cell_type": "code",
   "execution_count": null,
   "id": "11cd2e48",
   "metadata": {},
   "outputs": [],
   "source": [
    "display(model_trained.summary())"
   ]
  },
  {
   "cell_type": "code",
   "execution_count": null,
   "id": "748047a8-be3e-42ca-8376-cef265b72ee4",
   "metadata": {},
   "outputs": [],
   "source": [
    "Image('content/LG_time_series_day16/image/intro2.PNG')"
   ]
  },
  {
   "cell_type": "markdown",
   "id": "ecb2bcf2",
   "metadata": {},
   "source": [
    "## 7. 회귀모델 성능 평가"
   ]
  },
  {
   "cell_type": "code",
   "execution_count": null,
   "id": "59e84e09",
   "metadata": {},
   "outputs": [],
   "source": [
    "# 실제값\n",
    "true = y\n",
    "\n",
    "# 예측값\n",
    "pred = model_trained.fittedvalues"
   ]
  },
  {
   "cell_type": "code",
   "execution_count": null,
   "id": "574e3c1f",
   "metadata": {},
   "outputs": [],
   "source": [
    "fig_values = np.concatenate([true.values.squeeze(), pred.values.squeeze()])\n",
    "vmin = np.min(fig_values) * 0.95\n",
    "vmax = np.max(fig_values) * 1.05\n",
    "\n",
    "plt.figure(figsize=(8, 8))\n",
    "plt.title('실제값 vs. 모델 출력 값', size=18)\n",
    "plt.scatter(y, pred)\n",
    "plt.plot([vmin, vmax], [vmin, vmax], color='grey', linestyle='dashed')\n",
    "plt.xlabel('실제값', size=16)\n",
    "plt.ylabel('모델 출력 값', size=16)\n",
    "plt.show()"
   ]
  },
  {
   "cell_type": "markdown",
   "id": "ea046d62",
   "metadata": {},
   "source": [
    "### 다양한 회귀 모델 예측 성능 평가 지표들"
   ]
  },
  {
   "cell_type": "markdown",
   "id": "17d3f4bd",
   "metadata": {},
   "source": [
    "- 실제값 : $y_{i}$\n",
    "- 예측값 : $\\hat{y}_{i}$\n",
    "\n",
    "#### Mean Squared Error (평균 제곱 오차): $\\frac{1}{n} \\sum_{i=1}^{n} (y_{i} - \\hat{y}_{i})^{2}$\n",
    "\n",
    "####  Root Mean Squared Error (제곱근 평균 제곱 오차): $\\sqrt{\\frac{1}{n} \\sum_{i=1}^{n} (y_{i} - \\hat{y}_{i})^{2}}$\n",
    "\n",
    "####  Mean Absolute Error (평균 절대 오차): $\\frac{1}{n} \\sum_{i=1}^{n} |\\hat{y}_{i}- y_{i}|$\n",
    "\n",
    "####  Mean Absolute Percentage Error (평균 절대 백분율 오차): $\\frac{100}{n} \\sum_{i=1}^{n} |\\frac{\\hat{y}_{i}- y_{i}}{\\hat{y}_{i}}|$\n",
    "\n",
    "####  R squared (결정계수 $({r})^{2}$): $\\frac{SSR}{SST} = 1- \\frac{SSR}{SST}%$"
   ]
  },
  {
   "cell_type": "code",
   "execution_count": null,
   "id": "d2bbe871",
   "metadata": {},
   "outputs": [],
   "source": [
    "# MAPE def.\n",
    "def mean_absolute_percentage_error(y_true, y_pred):\n",
    "    y_true, y_pred = np.array(y_true), np.array(y_pred)\n",
    "    return np.mean(np.abs((y_true-y_pred)/y_true))*100"
   ]
  },
  {
   "cell_type": "code",
   "execution_count": null,
   "id": "9c5210ad",
   "metadata": {},
   "outputs": [],
   "source": [
    "MSE_value = mean_squared_error(true, pred)\n",
    "RMSE_value = np.sqrt(mean_squared_error(true, pred))\n",
    "MAE_value = mean_absolute_error(true, pred)\n",
    "MAPE_value = mean_absolute_percentage_error(true, pred)\n",
    "r2_value = r2_score(true, pred)\n",
    "\n",
    "print(\"Training MSE : {:.3f}\".format(MSE_value))\n",
    "print(\"Training RMSE : {:.3f}\".format(RMSE_value))\n",
    "print(\"Training MAE : {:.3f}\".format(MAE_value))\n",
    "print(\"Training MAPE : {:.3f}\".format(MAPE_value))\n",
    "print(\"Training R2 : {:.3f}\".format(r2_value))"
   ]
  },
  {
   "cell_type": "markdown",
   "id": "f8ee4990-ce15-402f-b124-78819193efe9",
   "metadata": {},
   "source": [
    "---"
   ]
  }
 ],
 "metadata": {
  "kernelspec": {
   "display_name": "ttest3.8",
   "language": "python",
   "name": "ttest3.8"
  },
  "language_info": {
   "codemirror_mode": {
    "name": "ipython",
    "version": 3
   },
   "file_extension": ".py",
   "mimetype": "text/x-python",
   "name": "python",
   "nbconvert_exporter": "python",
   "pygments_lexer": "ipython3",
   "version": "3.8.13"
  }
 },
 "nbformat": 4,
 "nbformat_minor": 5
}
